{
 "cells": [
  {
   "cell_type": "code",
   "execution_count": 1,
   "id": "fb9537fe",
   "metadata": {},
   "outputs": [],
   "source": [
    "import pandas as pd\n",
    "import tensorflow as tf\n",
    "from sklearn.model_selection import train_test_split\n",
    "from sklearn.preprocessing import StandardScaler"
   ]
  },
  {
   "cell_type": "markdown",
   "id": "fa897c12",
   "metadata": {},
   "source": [
    "Wczytanie danych"
   ]
  },
  {
   "cell_type": "code",
   "execution_count": 2,
   "id": "e3c4501a",
   "metadata": {},
   "outputs": [
    {
     "data": {
      "text/html": [
       "<div>\n",
       "<style scoped>\n",
       "    .dataframe tbody tr th:only-of-type {\n",
       "        vertical-align: middle;\n",
       "    }\n",
       "\n",
       "    .dataframe tbody tr th {\n",
       "        vertical-align: top;\n",
       "    }\n",
       "\n",
       "    .dataframe thead th {\n",
       "        text-align: right;\n",
       "    }\n",
       "</style>\n",
       "<table border=\"1\" class=\"dataframe\">\n",
       "  <thead>\n",
       "    <tr style=\"text-align: right;\">\n",
       "      <th></th>\n",
       "      <th>Tournament</th>\n",
       "      <th>Date</th>\n",
       "      <th>Surface</th>\n",
       "      <th>Round</th>\n",
       "      <th>Player_1</th>\n",
       "      <th>Player_2</th>\n",
       "      <th>Rank_1</th>\n",
       "      <th>Rank_2</th>\n",
       "      <th>Pts_1</th>\n",
       "      <th>Pts_2</th>\n",
       "      <th>...</th>\n",
       "      <th>P2_form_win</th>\n",
       "      <th>H2H_diff</th>\n",
       "      <th>elo1</th>\n",
       "      <th>elo2</th>\n",
       "      <th>surf1</th>\n",
       "      <th>surf2</th>\n",
       "      <th>blend1</th>\n",
       "      <th>blend2</th>\n",
       "      <th>Elo_diff</th>\n",
       "      <th>Elo_blend_diff</th>\n",
       "    </tr>\n",
       "  </thead>\n",
       "  <tbody>\n",
       "    <tr>\n",
       "      <th>0</th>\n",
       "      <td>Mondial Australian Women's Hardcourts</td>\n",
       "      <td>2006-12-31</td>\n",
       "      <td>Hard</td>\n",
       "      <td>1st Round</td>\n",
       "      <td>Sequera M.</td>\n",
       "      <td>Ivanova E.</td>\n",
       "      <td>103.0</td>\n",
       "      <td>183.0</td>\n",
       "      <td>280.0</td>\n",
       "      <td>148.0</td>\n",
       "      <td>...</td>\n",
       "      <td>1.0</td>\n",
       "      <td>0</td>\n",
       "      <td>1500.0</td>\n",
       "      <td>1500.0</td>\n",
       "      <td>1500.0</td>\n",
       "      <td>1500.0</td>\n",
       "      <td>1500.0</td>\n",
       "      <td>1500.0</td>\n",
       "      <td>0.0</td>\n",
       "      <td>0.0</td>\n",
       "    </tr>\n",
       "    <tr>\n",
       "      <th>1</th>\n",
       "      <td>Mondial Australian Women's Hardcourts</td>\n",
       "      <td>2006-12-31</td>\n",
       "      <td>Hard</td>\n",
       "      <td>1st Round</td>\n",
       "      <td>Ferguson S.</td>\n",
       "      <td>Sugiyama A.</td>\n",
       "      <td>184.0</td>\n",
       "      <td>26.0</td>\n",
       "      <td>146.0</td>\n",
       "      <td>716.0</td>\n",
       "      <td>...</td>\n",
       "      <td>0.5</td>\n",
       "      <td>0</td>\n",
       "      <td>1500.0</td>\n",
       "      <td>1500.0</td>\n",
       "      <td>1500.0</td>\n",
       "      <td>1500.0</td>\n",
       "      <td>1500.0</td>\n",
       "      <td>1500.0</td>\n",
       "      <td>0.0</td>\n",
       "      <td>0.0</td>\n",
       "    </tr>\n",
       "    <tr>\n",
       "      <th>2</th>\n",
       "      <td>Mondial Australian Women's Hardcourts</td>\n",
       "      <td>2006-12-31</td>\n",
       "      <td>Hard</td>\n",
       "      <td>1st Round</td>\n",
       "      <td>Camerin M.E.</td>\n",
       "      <td>Vesnina E.</td>\n",
       "      <td>50.0</td>\n",
       "      <td>47.0</td>\n",
       "      <td>426.0</td>\n",
       "      <td>445.0</td>\n",
       "      <td>...</td>\n",
       "      <td>1.0</td>\n",
       "      <td>0</td>\n",
       "      <td>1500.0</td>\n",
       "      <td>1500.0</td>\n",
       "      <td>1500.0</td>\n",
       "      <td>1500.0</td>\n",
       "      <td>1500.0</td>\n",
       "      <td>1500.0</td>\n",
       "      <td>0.0</td>\n",
       "      <td>0.0</td>\n",
       "    </tr>\n",
       "    <tr>\n",
       "      <th>3</th>\n",
       "      <td>Mondial Australian Women's Hardcourts</td>\n",
       "      <td>2006-12-31</td>\n",
       "      <td>Hard</td>\n",
       "      <td>1st Round</td>\n",
       "      <td>Hingis M.</td>\n",
       "      <td>Bammer S.</td>\n",
       "      <td>7.0</td>\n",
       "      <td>49.0</td>\n",
       "      <td>2018.0</td>\n",
       "      <td>430.0</td>\n",
       "      <td>...</td>\n",
       "      <td>0.5</td>\n",
       "      <td>0</td>\n",
       "      <td>1500.0</td>\n",
       "      <td>1500.0</td>\n",
       "      <td>1500.0</td>\n",
       "      <td>1500.0</td>\n",
       "      <td>1500.0</td>\n",
       "      <td>1500.0</td>\n",
       "      <td>0.0</td>\n",
       "      <td>0.0</td>\n",
       "    </tr>\n",
       "    <tr>\n",
       "      <th>4</th>\n",
       "      <td>Mondial Australian Women's Hardcourts</td>\n",
       "      <td>2006-12-31</td>\n",
       "      <td>Hard</td>\n",
       "      <td>1st Round</td>\n",
       "      <td>Benesova I.</td>\n",
       "      <td>Bremond S.</td>\n",
       "      <td>58.0</td>\n",
       "      <td>40.0</td>\n",
       "      <td>402.0</td>\n",
       "      <td>521.0</td>\n",
       "      <td>...</td>\n",
       "      <td>1.0</td>\n",
       "      <td>0</td>\n",
       "      <td>1500.0</td>\n",
       "      <td>1500.0</td>\n",
       "      <td>1500.0</td>\n",
       "      <td>1500.0</td>\n",
       "      <td>1500.0</td>\n",
       "      <td>1500.0</td>\n",
       "      <td>0.0</td>\n",
       "      <td>0.0</td>\n",
       "    </tr>\n",
       "  </tbody>\n",
       "</table>\n",
       "<p>5 rows × 32 columns</p>\n",
       "</div>"
      ],
      "text/plain": [
       "                              Tournament        Date Surface      Round  \\\n",
       "0  Mondial Australian Women's Hardcourts  2006-12-31    Hard  1st Round   \n",
       "1  Mondial Australian Women's Hardcourts  2006-12-31    Hard  1st Round   \n",
       "2  Mondial Australian Women's Hardcourts  2006-12-31    Hard  1st Round   \n",
       "3  Mondial Australian Women's Hardcourts  2006-12-31    Hard  1st Round   \n",
       "4  Mondial Australian Women's Hardcourts  2006-12-31    Hard  1st Round   \n",
       "\n",
       "       Player_1     Player_2  Rank_1  Rank_2   Pts_1  Pts_2  ...  P2_form_win  \\\n",
       "0    Sequera M.   Ivanova E.   103.0   183.0   280.0  148.0  ...          1.0   \n",
       "1   Ferguson S.  Sugiyama A.   184.0    26.0   146.0  716.0  ...          0.5   \n",
       "2  Camerin M.E.   Vesnina E.    50.0    47.0   426.0  445.0  ...          1.0   \n",
       "3     Hingis M.    Bammer S.     7.0    49.0  2018.0  430.0  ...          0.5   \n",
       "4   Benesova I.   Bremond S.    58.0    40.0   402.0  521.0  ...          1.0   \n",
       "\n",
       "   H2H_diff    elo1    elo2   surf1   surf2  blend1  blend2  Elo_diff  \\\n",
       "0         0  1500.0  1500.0  1500.0  1500.0  1500.0  1500.0       0.0   \n",
       "1         0  1500.0  1500.0  1500.0  1500.0  1500.0  1500.0       0.0   \n",
       "2         0  1500.0  1500.0  1500.0  1500.0  1500.0  1500.0       0.0   \n",
       "3         0  1500.0  1500.0  1500.0  1500.0  1500.0  1500.0       0.0   \n",
       "4         0  1500.0  1500.0  1500.0  1500.0  1500.0  1500.0       0.0   \n",
       "\n",
       "   Elo_blend_diff  \n",
       "0             0.0  \n",
       "1             0.0  \n",
       "2             0.0  \n",
       "3             0.0  \n",
       "4             0.0  \n",
       "\n",
       "[5 rows x 32 columns]"
      ]
     },
     "execution_count": 2,
     "metadata": {},
     "output_type": "execute_result"
    }
   ],
   "source": [
    "df = pd.read_csv('../prepared_data/wta_prepared_eda_v2.csv')\n",
    "df.head()"
   ]
  },
  {
   "cell_type": "markdown",
   "id": "a75f3662",
   "metadata": {},
   "source": [
    "Accuracy na samych danych z Rank"
   ]
  },
  {
   "cell_type": "code",
   "execution_count": 16,
   "id": "cee6a4ea",
   "metadata": {},
   "outputs": [
    {
     "data": {
      "text/plain": [
       "0.6514299276136228"
      ]
     },
     "execution_count": 16,
     "metadata": {},
     "output_type": "execute_result"
    }
   ],
   "source": [
    "accuracy1 = df[df[\"Rank_1\"] > df[\"Rank_2\"]]\n",
    "accuracy1 = accuracy1[accuracy1[\"Player1_wins\"] == 0]\n",
    "accuracy2 = df[df[\"Rank_1\"] < df[\"Rank_2\"]]\n",
    "accuracy2 = accuracy2[accuracy2[\"Player1_wins\"] == 1]\n",
    "full_len = len(accuracy1) + len(accuracy2)\n",
    "accuracy = full_len / len(df)\n",
    "accuracy"
   ]
  },
  {
   "cell_type": "markdown",
   "id": "9c583d23",
   "metadata": {},
   "source": [
    "Wybranie cech do trenowania"
   ]
  },
  {
   "cell_type": "code",
   "execution_count": 4,
   "id": "e484e4ec",
   "metadata": {},
   "outputs": [
    {
     "data": {
      "text/html": [
       "<div>\n",
       "<style scoped>\n",
       "    .dataframe tbody tr th:only-of-type {\n",
       "        vertical-align: middle;\n",
       "    }\n",
       "\n",
       "    .dataframe tbody tr th {\n",
       "        vertical-align: top;\n",
       "    }\n",
       "\n",
       "    .dataframe thead th {\n",
       "        text-align: right;\n",
       "    }\n",
       "</style>\n",
       "<table border=\"1\" class=\"dataframe\">\n",
       "  <thead>\n",
       "    <tr style=\"text-align: right;\">\n",
       "      <th></th>\n",
       "      <th>Rank_diff</th>\n",
       "      <th>Points_diff</th>\n",
       "      <th>Rank_1</th>\n",
       "      <th>Rank_2</th>\n",
       "      <th>Pts_1</th>\n",
       "      <th>Pts_2</th>\n",
       "      <th>Round_encoded</th>\n",
       "      <th>H2H_diff</th>\n",
       "      <th>elo1</th>\n",
       "      <th>elo2</th>\n",
       "    </tr>\n",
       "  </thead>\n",
       "  <tbody>\n",
       "    <tr>\n",
       "      <th>0</th>\n",
       "      <td>80.0</td>\n",
       "      <td>132.0</td>\n",
       "      <td>103.0</td>\n",
       "      <td>183.0</td>\n",
       "      <td>280.0</td>\n",
       "      <td>148.0</td>\n",
       "      <td>1</td>\n",
       "      <td>0</td>\n",
       "      <td>1500.000000</td>\n",
       "      <td>1500.000000</td>\n",
       "    </tr>\n",
       "    <tr>\n",
       "      <th>1</th>\n",
       "      <td>-158.0</td>\n",
       "      <td>-570.0</td>\n",
       "      <td>184.0</td>\n",
       "      <td>26.0</td>\n",
       "      <td>146.0</td>\n",
       "      <td>716.0</td>\n",
       "      <td>1</td>\n",
       "      <td>0</td>\n",
       "      <td>1500.000000</td>\n",
       "      <td>1500.000000</td>\n",
       "    </tr>\n",
       "    <tr>\n",
       "      <th>2</th>\n",
       "      <td>-3.0</td>\n",
       "      <td>-19.0</td>\n",
       "      <td>50.0</td>\n",
       "      <td>47.0</td>\n",
       "      <td>426.0</td>\n",
       "      <td>445.0</td>\n",
       "      <td>1</td>\n",
       "      <td>0</td>\n",
       "      <td>1500.000000</td>\n",
       "      <td>1500.000000</td>\n",
       "    </tr>\n",
       "    <tr>\n",
       "      <th>3</th>\n",
       "      <td>42.0</td>\n",
       "      <td>1588.0</td>\n",
       "      <td>7.0</td>\n",
       "      <td>49.0</td>\n",
       "      <td>2018.0</td>\n",
       "      <td>430.0</td>\n",
       "      <td>1</td>\n",
       "      <td>0</td>\n",
       "      <td>1500.000000</td>\n",
       "      <td>1500.000000</td>\n",
       "    </tr>\n",
       "    <tr>\n",
       "      <th>4</th>\n",
       "      <td>-18.0</td>\n",
       "      <td>-119.0</td>\n",
       "      <td>58.0</td>\n",
       "      <td>40.0</td>\n",
       "      <td>402.0</td>\n",
       "      <td>521.0</td>\n",
       "      <td>1</td>\n",
       "      <td>0</td>\n",
       "      <td>1500.000000</td>\n",
       "      <td>1500.000000</td>\n",
       "    </tr>\n",
       "    <tr>\n",
       "      <th>...</th>\n",
       "      <td>...</td>\n",
       "      <td>...</td>\n",
       "      <td>...</td>\n",
       "      <td>...</td>\n",
       "      <td>...</td>\n",
       "      <td>...</td>\n",
       "      <td>...</td>\n",
       "      <td>...</td>\n",
       "      <td>...</td>\n",
       "      <td>...</td>\n",
       "    </tr>\n",
       "    <tr>\n",
       "      <th>42368</th>\n",
       "      <td>-78.0</td>\n",
       "      <td>-3720.0</td>\n",
       "      <td>86.0</td>\n",
       "      <td>8.0</td>\n",
       "      <td>764.0</td>\n",
       "      <td>4484.0</td>\n",
       "      <td>7</td>\n",
       "      <td>0</td>\n",
       "      <td>1638.882243</td>\n",
       "      <td>2094.718569</td>\n",
       "    </tr>\n",
       "    <tr>\n",
       "      <th>42369</th>\n",
       "      <td>-55.0</td>\n",
       "      <td>-898.0</td>\n",
       "      <td>80.0</td>\n",
       "      <td>25.0</td>\n",
       "      <td>848.0</td>\n",
       "      <td>1746.0</td>\n",
       "      <td>8</td>\n",
       "      <td>0</td>\n",
       "      <td>1823.895971</td>\n",
       "      <td>1959.606854</td>\n",
       "    </tr>\n",
       "    <tr>\n",
       "      <th>42370</th>\n",
       "      <td>-71.0</td>\n",
       "      <td>-2040.0</td>\n",
       "      <td>86.0</td>\n",
       "      <td>15.0</td>\n",
       "      <td>764.0</td>\n",
       "      <td>2804.0</td>\n",
       "      <td>8</td>\n",
       "      <td>-5</td>\n",
       "      <td>1686.902236</td>\n",
       "      <td>2015.898521</td>\n",
       "    </tr>\n",
       "    <tr>\n",
       "      <th>42371</th>\n",
       "      <td>48.0</td>\n",
       "      <td>439.0</td>\n",
       "      <td>55.0</td>\n",
       "      <td>103.0</td>\n",
       "      <td>1105.0</td>\n",
       "      <td>666.0</td>\n",
       "      <td>8</td>\n",
       "      <td>0</td>\n",
       "      <td>1783.966847</td>\n",
       "      <td>1456.979971</td>\n",
       "    </tr>\n",
       "    <tr>\n",
       "      <th>42372</th>\n",
       "      <td>2.0</td>\n",
       "      <td>1430.0</td>\n",
       "      <td>7.0</td>\n",
       "      <td>9.0</td>\n",
       "      <td>5225.0</td>\n",
       "      <td>3795.0</td>\n",
       "      <td>8</td>\n",
       "      <td>0</td>\n",
       "      <td>1714.056081</td>\n",
       "      <td>2106.671295</td>\n",
       "    </tr>\n",
       "  </tbody>\n",
       "</table>\n",
       "<p>42373 rows × 10 columns</p>\n",
       "</div>"
      ],
      "text/plain": [
       "       Rank_diff  Points_diff  Rank_1  Rank_2   Pts_1   Pts_2  Round_encoded  \\\n",
       "0           80.0        132.0   103.0   183.0   280.0   148.0              1   \n",
       "1         -158.0       -570.0   184.0    26.0   146.0   716.0              1   \n",
       "2           -3.0        -19.0    50.0    47.0   426.0   445.0              1   \n",
       "3           42.0       1588.0     7.0    49.0  2018.0   430.0              1   \n",
       "4          -18.0       -119.0    58.0    40.0   402.0   521.0              1   \n",
       "...          ...          ...     ...     ...     ...     ...            ...   \n",
       "42368      -78.0      -3720.0    86.0     8.0   764.0  4484.0              7   \n",
       "42369      -55.0       -898.0    80.0    25.0   848.0  1746.0              8   \n",
       "42370      -71.0      -2040.0    86.0    15.0   764.0  2804.0              8   \n",
       "42371       48.0        439.0    55.0   103.0  1105.0   666.0              8   \n",
       "42372        2.0       1430.0     7.0     9.0  5225.0  3795.0              8   \n",
       "\n",
       "       H2H_diff         elo1         elo2  \n",
       "0             0  1500.000000  1500.000000  \n",
       "1             0  1500.000000  1500.000000  \n",
       "2             0  1500.000000  1500.000000  \n",
       "3             0  1500.000000  1500.000000  \n",
       "4             0  1500.000000  1500.000000  \n",
       "...         ...          ...          ...  \n",
       "42368         0  1638.882243  2094.718569  \n",
       "42369         0  1823.895971  1959.606854  \n",
       "42370        -5  1686.902236  2015.898521  \n",
       "42371         0  1783.966847  1456.979971  \n",
       "42372         0  1714.056081  2106.671295  \n",
       "\n",
       "[42373 rows x 10 columns]"
      ]
     },
     "execution_count": 4,
     "metadata": {},
     "output_type": "execute_result"
    }
   ],
   "source": [
    "features = [\n",
    "    'Rank_diff', 'Points_diff',\n",
    "    'Rank_1', 'Rank_2', 'Pts_1', 'Pts_2',\n",
    "    'Round_encoded', 'H2H_diff', 'elo1', 'elo2',\n",
    "]\n",
    "\n",
    "X = df[features]\n",
    "X"
   ]
  },
  {
   "cell_type": "markdown",
   "id": "14e01370",
   "metadata": {},
   "source": [
    "Do testowania"
   ]
  },
  {
   "cell_type": "code",
   "execution_count": 5,
   "id": "edcf8bf6",
   "metadata": {},
   "outputs": [
    {
     "data": {
      "text/plain": [
       "0        1\n",
       "1        1\n",
       "2        0\n",
       "3        1\n",
       "4        0\n",
       "        ..\n",
       "42368    1\n",
       "42369    0\n",
       "42370    1\n",
       "42371    1\n",
       "42372    0\n",
       "Name: Player1_wins, Length: 42373, dtype: int64"
      ]
     },
     "execution_count": 5,
     "metadata": {},
     "output_type": "execute_result"
    }
   ],
   "source": [
    "y = df['Player1_wins']\n",
    "y"
   ]
  },
  {
   "cell_type": "markdown",
   "id": "e97e393b",
   "metadata": {},
   "source": [
    "Skalowanie cech numerycznych"
   ]
  },
  {
   "cell_type": "code",
   "execution_count": 6,
   "id": "0582897c",
   "metadata": {},
   "outputs": [
    {
     "data": {
      "text/plain": [
       "array([[ 6.49245434e-01,  7.21768935e-02,  2.83429246e-01, ...,\n",
       "         3.05854523e-03, -1.02213241e+00, -1.02142944e+00],\n",
       "       [-1.25313455e+00, -2.63972202e-01,  1.14458235e+00, ...,\n",
       "         3.05854523e-03, -1.02213241e+00, -1.02142944e+00],\n",
       "       [-1.41896015e-02, -1.28681153e-04, -2.80041301e-01, ...,\n",
       "         3.05854523e-03, -1.02213241e+00, -1.02142944e+00],\n",
       "       ...,\n",
       "       [-5.57726739e-01, -9.67874154e-01,  1.02693410e-01, ...,\n",
       "        -4.52840079e+00, -7.94971119e-02,  1.56469015e+00],\n",
       "       [ 3.93463251e-01,  2.19182267e-01, -2.26883702e-01, ...,\n",
       "         3.05854523e-03,  4.10045070e-01, -1.23708220e+00],\n",
       "       [ 2.57763644e-02,  6.93717529e-01, -7.37196650e-01, ...,\n",
       "         3.05854523e-03,  5.74524143e-02,  2.01972004e+00]])"
      ]
     },
     "execution_count": 6,
     "metadata": {},
     "output_type": "execute_result"
    }
   ],
   "source": [
    "scaler = StandardScaler()\n",
    "X_scaled = scaler.fit_transform(X)\n",
    "X_scaled"
   ]
  },
  {
   "cell_type": "markdown",
   "id": "78c00fb4",
   "metadata": {},
   "source": [
    "Podział na zbiory train/test"
   ]
  },
  {
   "cell_type": "code",
   "execution_count": 7,
   "id": "addcc17a",
   "metadata": {},
   "outputs": [],
   "source": [
    "X_train, X_test, y_train, y_test = train_test_split(X_scaled, y, test_size=0.2, random_state=42)"
   ]
  },
  {
   "cell_type": "markdown",
   "id": "fc3de8af",
   "metadata": {},
   "source": [
    "# Budowa modelu Keras"
   ]
  },
  {
   "cell_type": "code",
   "execution_count": 8,
   "id": "c85c8607",
   "metadata": {},
   "outputs": [
    {
     "name": "stderr",
     "output_type": "stream",
     "text": [
      "C:\\Users\\Krzysztof\\AppData\\Local\\Packages\\PythonSoftwareFoundation.Python.3.10_qbz5n2kfra8p0\\LocalCache\\local-packages\\Python310\\site-packages\\keras\\src\\layers\\core\\dense.py:87: UserWarning: Do not pass an `input_shape`/`input_dim` argument to a layer. When using Sequential models, prefer using an `Input(shape)` object as the first layer in the model instead.\n",
      "  super().__init__(activity_regularizer=activity_regularizer, **kwargs)\n"
     ]
    }
   ],
   "source": [
    "from tensorflow.keras.models import Sequential\n",
    "from tensorflow.keras.layers import Dense, Dropout, BatchNormalization\n",
    "\n",
    "model = Sequential([\n",
    "    Dense(256, activation='relu', input_shape=(X_train.shape[1],)),\n",
    "    BatchNormalization(),\n",
    "    Dropout(0.4),\n",
    "\n",
    "    Dense(128, activation='relu'),\n",
    "    BatchNormalization(),\n",
    "    Dropout(0.3),\n",
    "\n",
    "    Dense(64, activation='relu'),\n",
    "    Dropout(0.2),\n",
    "\n",
    "    Dense(1, activation='sigmoid'),\n",
    "    \n",
    "])\n",
    "\n",
    "model.compile(optimizer='adam', loss='binary_crossentropy', metrics=['accuracy'])"
   ]
  },
  {
   "cell_type": "markdown",
   "id": "d13d079b",
   "metadata": {},
   "source": [
    "Trenowanie modelu"
   ]
  },
  {
   "cell_type": "code",
   "execution_count": 9,
   "id": "3274baca",
   "metadata": {},
   "outputs": [
    {
     "name": "stdout",
     "output_type": "stream",
     "text": [
      "Epoch 1/30\n",
      "\u001b[1m848/848\u001b[0m \u001b[32m━━━━━━━━━━━━━━━━━━━━\u001b[0m\u001b[37m\u001b[0m \u001b[1m5s\u001b[0m 3ms/step - accuracy: 0.6170 - loss: 0.6983 - val_accuracy: 0.6637 - val_loss: 0.6136\n",
      "Epoch 2/30\n",
      "\u001b[1m848/848\u001b[0m \u001b[32m━━━━━━━━━━━━━━━━━━━━\u001b[0m\u001b[37m\u001b[0m \u001b[1m3s\u001b[0m 3ms/step - accuracy: 0.6399 - loss: 0.6334 - val_accuracy: 0.6670 - val_loss: 0.6093\n",
      "Epoch 3/30\n",
      "\u001b[1m848/848\u001b[0m \u001b[32m━━━━━━━━━━━━━━━━━━━━\u001b[0m\u001b[37m\u001b[0m \u001b[1m3s\u001b[0m 3ms/step - accuracy: 0.6566 - loss: 0.6173 - val_accuracy: 0.6667 - val_loss: 0.6111\n",
      "Epoch 4/30\n",
      "\u001b[1m848/848\u001b[0m \u001b[32m━━━━━━━━━━━━━━━━━━━━\u001b[0m\u001b[37m\u001b[0m \u001b[1m2s\u001b[0m 3ms/step - accuracy: 0.6652 - loss: 0.6103 - val_accuracy: 0.6664 - val_loss: 0.6080\n",
      "Epoch 5/30\n",
      "\u001b[1m848/848\u001b[0m \u001b[32m━━━━━━━━━━━━━━━━━━━━\u001b[0m\u001b[37m\u001b[0m \u001b[1m2s\u001b[0m 3ms/step - accuracy: 0.6571 - loss: 0.6206 - val_accuracy: 0.6656 - val_loss: 0.6121\n",
      "Epoch 6/30\n",
      "\u001b[1m848/848\u001b[0m \u001b[32m━━━━━━━━━━━━━━━━━━━━\u001b[0m\u001b[37m\u001b[0m \u001b[1m2s\u001b[0m 3ms/step - accuracy: 0.6617 - loss: 0.6141 - val_accuracy: 0.6661 - val_loss: 0.6125\n",
      "Epoch 7/30\n",
      "\u001b[1m848/848\u001b[0m \u001b[32m━━━━━━━━━━━━━━━━━━━━\u001b[0m\u001b[37m\u001b[0m \u001b[1m2s\u001b[0m 3ms/step - accuracy: 0.6651 - loss: 0.6120 - val_accuracy: 0.6676 - val_loss: 0.6075\n",
      "Epoch 8/30\n",
      "\u001b[1m848/848\u001b[0m \u001b[32m━━━━━━━━━━━━━━━━━━━━\u001b[0m\u001b[37m\u001b[0m \u001b[1m2s\u001b[0m 3ms/step - accuracy: 0.6560 - loss: 0.6157 - val_accuracy: 0.6668 - val_loss: 0.6078\n",
      "Epoch 9/30\n",
      "\u001b[1m848/848\u001b[0m \u001b[32m━━━━━━━━━━━━━━━━━━━━\u001b[0m\u001b[37m\u001b[0m \u001b[1m2s\u001b[0m 3ms/step - accuracy: 0.6637 - loss: 0.6158 - val_accuracy: 0.6665 - val_loss: 0.6088\n",
      "Epoch 10/30\n",
      "\u001b[1m848/848\u001b[0m \u001b[32m━━━━━━━━━━━━━━━━━━━━\u001b[0m\u001b[37m\u001b[0m \u001b[1m2s\u001b[0m 3ms/step - accuracy: 0.6682 - loss: 0.6068 - val_accuracy: 0.6642 - val_loss: 0.6158\n",
      "Epoch 11/30\n",
      "\u001b[1m848/848\u001b[0m \u001b[32m━━━━━━━━━━━━━━━━━━━━\u001b[0m\u001b[37m\u001b[0m \u001b[1m2s\u001b[0m 3ms/step - accuracy: 0.6637 - loss: 0.6159 - val_accuracy: 0.6702 - val_loss: 0.6119\n",
      "Epoch 12/30\n",
      "\u001b[1m848/848\u001b[0m \u001b[32m━━━━━━━━━━━━━━━━━━━━\u001b[0m\u001b[37m\u001b[0m \u001b[1m3s\u001b[0m 3ms/step - accuracy: 0.6568 - loss: 0.6182 - val_accuracy: 0.6634 - val_loss: 0.6098\n"
     ]
    }
   ],
   "source": [
    "from tensorflow.keras.callbacks import EarlyStopping\n",
    "\n",
    "early_stop = EarlyStopping(\n",
    "    monitor='val_loss',\n",
    "    patience=5,\n",
    "    restore_best_weights=True\n",
    ")\n",
    "\n",
    "history = model.fit(X_train, y_train, epochs=30, batch_size=32, validation_split=0.2, callbacks=[early_stop], verbose=1)"
   ]
  },
  {
   "cell_type": "markdown",
   "id": "5a9a6d11",
   "metadata": {},
   "source": [
    "Ewaluacja"
   ]
  },
  {
   "cell_type": "code",
   "execution_count": 10,
   "id": "729b84ad",
   "metadata": {},
   "outputs": [
    {
     "name": "stdout",
     "output_type": "stream",
     "text": [
      "\u001b[1m265/265\u001b[0m \u001b[32m━━━━━━━━━━━━━━━━━━━━\u001b[0m\u001b[37m\u001b[0m \u001b[1m0s\u001b[0m 1ms/step - accuracy: 0.6710 - loss: 0.6030\n",
      "Test accuracy: 0.67\n"
     ]
    }
   ],
   "source": [
    "loss, accuracy = model.evaluate(X_test, y_test)\n",
    "print(f\"Test accuracy: {accuracy:.2f}\")"
   ]
  },
  {
   "cell_type": "code",
   "execution_count": 11,
   "id": "055a4149",
   "metadata": {},
   "outputs": [
    {
     "data": {
      "image/png": "[encoded data removed]",
      "text/plain": [
       "<Figure size 640x480 with 1 Axes>"
      ]
     },
     "metadata": {},
     "output_type": "display_data"
    }
   ],
   "source": [
    "import matplotlib.pyplot as plt\n",
    "\n",
    "plt.plot(history.history['accuracy'], label='Train')\n",
    "plt.plot(history.history['val_accuracy'], label='Validation')\n",
    "plt.title(\"Model accuracy\")\n",
    "plt.legend()\n",
    "plt.show()\n"
   ]
  }
 ],
 "metadata": {
  "kernelspec": {
   "display_name": "Python 3",
   "language": "python",
   "name": "python3"
  },
  "language_info": {
   "codemirror_mode": {
    "name": "ipython",
    "version": 3
   },
   "file_extension": ".py",
   "mimetype": "text/x-python",
   "name": "python",
   "nbconvert_exporter": "python",
   "pygments_lexer": "ipython3",
   "version": "3.10.11"
  }
 },
 "nbformat": 4,
 "nbformat_minor": 5
}
