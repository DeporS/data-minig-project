{
 "cells": [
  {
   "cell_type": "markdown",
   "id": "e7104133",
   "metadata": {},
   "source": [
    "# Przewidywanie zwycięzcy turnieju sportowego z wykorzystaniem algorytmów eksploracji danych w tenisie"
   ]
  },
  {
   "cell_type": "markdown",
   "id": "89b86ee5",
   "metadata": {},
   "source": [
    "Projekt powstał na przedmiot **Eksploracja Danych** i ma na celu **przewidzenie zwyciężczyni turnieju tenisowego** (lub pojedynczych meczów) na podstawie historycznych danych meczowych. Zadanie to jest typową klasyfikacją binarną/multinomialną, którą można rozszerzyć do symulacji całej drabinki turniejowej (Monte-Carlo) w oparciu o prawdopodobieństwa pojedynczych pojedynków."
   ]
  },
  {
   "cell_type": "markdown",
   "id": "f23f235a",
   "metadata": {},
   "source": [
    "## Opis zbioru danych - *WTA Tennis 2007-2025 Daily Update*"
   ]
  },
  {
   "cell_type": "markdown",
   "id": "838199a1",
   "metadata": {},
   "source": [
    "- Zakres czasowy: 2007-05-01 → 2025-05-21 (codzienne aktualizacje)\n",
    "- Rekordy: ≈ 70 000 spotkań WTA\n",
    "- Atrybuty kluczowe: winner_id, loser_id, statystyki zagrywki (aces, df), punkty serwisowe/return, ranking WTA, nazwa turnieju, surface, round, best_of\n",
    "- Źródło: https://www.kaggle.com/code/dissfya/wta-tennis-daily-update/notebook\n",
    "\n",
    "Plik jest zbudowany na bazie publicznego repozytorium Jeffa Sackmanna i aktualizowany codziennie przez skrypt scrapujący stronę WTA."
   ]
  },
  {
   "cell_type": "markdown",
   "id": "f346887c",
   "metadata": {},
   "source": [
    "## Przegląd literatury"
   ]
  },
  {
   "cell_type": "markdown",
   "id": "353df5a3",
   "metadata": {},
   "source": []
  },
  {
   "cell_type": "markdown",
   "id": "7aa0bbc8",
   "metadata": {},
   "source": [
    "## Inżynieria cech\n",
    "\n"
   ]
  },
  {
   "cell_type": "markdown",
   "id": "4541de82",
   "metadata": {},
   "source": [
    "Biblioteki uzyte w projekcie:"
   ]
  },
  {
   "cell_type": "code",
   "execution_count": 19,
   "id": "030c0fa6",
   "metadata": {},
   "outputs": [],
   "source": [
    "import kagglehub\n",
    "import shutil\n",
    "import os\n",
    "import re\n",
    "\n",
    "import pandas as pd\n",
    "import numpy as np\n",
    "import matplotlib.pyplot as plt\n",
    "import seaborn as sns\n",
    "\n",
    "import networkx as nx\n",
    "from tqdm import tqdm"
   ]
  },
  {
   "cell_type": "markdown",
   "id": "001d9cc9",
   "metadata": {},
   "source": [
    "## Zapis danych"
   ]
  },
  {
   "cell_type": "code",
   "execution_count": 3,
   "id": "4e4d11b5",
   "metadata": {},
   "outputs": [
    {
     "name": "stdout",
     "output_type": "stream",
     "text": [
      "Downloading from https://www.kaggle.com/api/v1/datasets/download/dissfya/wta-tennis-2007-2023-daily-update?dataset_version_number=714...\n"
     ]
    },
    {
     "name": "stderr",
     "output_type": "stream",
     "text": [
      "100%|██████████| 996k/996k [00:00<00:00, 1.68MB/s]"
     ]
    },
    {
     "name": "stdout",
     "output_type": "stream",
     "text": [
      "Extracting files...\n",
      "Dane zostały zapisane do folderu: ../data/\n"
     ]
    },
    {
     "name": "stderr",
     "output_type": "stream",
     "text": [
      "\n"
     ]
    }
   ],
   "source": [
    "path = kagglehub.dataset_download(\"dissfya/wta-tennis-2007-2023-daily-update\")\n",
    "\n",
    "target_dir = \"../data/\"\n",
    "os.makedirs(target_dir, exist_ok=True)\n",
    "\n",
    "for filename in os.listdir(path):\n",
    "    src_file = os.path.join(path, filename)\n",
    "    dst_file = os.path.join(target_dir, filename)\n",
    "    shutil.copy2(src_file, dst_file)\n",
    "\n",
    "print(f\"Dane zostały zapisane do folderu: {target_dir}\")"
   ]
  },
  {
   "cell_type": "markdown",
   "id": "4005752a",
   "metadata": {},
   "source": [
    "## Sprawdzenie danych"
   ]
  },
  {
   "cell_type": "code",
   "execution_count": 6,
   "id": "e6121d4a",
   "metadata": {},
   "outputs": [
    {
     "name": "stderr",
     "output_type": "stream",
     "text": [
      "C:\\Users\\marta\\AppData\\Local\\Temp\\ipykernel_1332\\2283637257.py:1: DtypeWarning: Columns (13) have mixed types. Specify dtype option on import or set low_memory=False.\n",
      "  df = pd.read_csv(\"../data/wta.csv\")\n"
     ]
    },
    {
     "data": {
      "text/html": [
       "<div>\n",
       "<style scoped>\n",
       "    .dataframe tbody tr th:only-of-type {\n",
       "        vertical-align: middle;\n",
       "    }\n",
       "\n",
       "    .dataframe tbody tr th {\n",
       "        vertical-align: top;\n",
       "    }\n",
       "\n",
       "    .dataframe thead th {\n",
       "        text-align: right;\n",
       "    }\n",
       "</style>\n",
       "<table border=\"1\" class=\"dataframe\">\n",
       "  <thead>\n",
       "    <tr style=\"text-align: right;\">\n",
       "      <th></th>\n",
       "      <th>Tournament</th>\n",
       "      <th>Date</th>\n",
       "      <th>Court</th>\n",
       "      <th>Surface</th>\n",
       "      <th>Round</th>\n",
       "      <th>Best of</th>\n",
       "      <th>Player_1</th>\n",
       "      <th>Player_2</th>\n",
       "      <th>Winner</th>\n",
       "      <th>Rank_1</th>\n",
       "      <th>Rank_2</th>\n",
       "      <th>Pts_1</th>\n",
       "      <th>Pts_2</th>\n",
       "      <th>Odd_1</th>\n",
       "      <th>Odd_2</th>\n",
       "      <th>Score</th>\n",
       "    </tr>\n",
       "  </thead>\n",
       "  <tbody>\n",
       "    <tr>\n",
       "      <th>0</th>\n",
       "      <td>ASB Classic</td>\n",
       "      <td>2007-01-01 00:00:00</td>\n",
       "      <td>Outdoor</td>\n",
       "      <td>Hard</td>\n",
       "      <td>1st Round</td>\n",
       "      <td>3</td>\n",
       "      <td>Sun T.T.</td>\n",
       "      <td>Baker L.</td>\n",
       "      <td>Sun T.T.</td>\n",
       "      <td>81</td>\n",
       "      <td>272</td>\n",
       "      <td>332</td>\n",
       "      <td>90</td>\n",
       "      <td>1.33</td>\n",
       "      <td>3.00</td>\n",
       "      <td>6-1 6-1</td>\n",
       "    </tr>\n",
       "    <tr>\n",
       "      <th>1</th>\n",
       "      <td>ASB Classic</td>\n",
       "      <td>2007-01-01 00:00:00</td>\n",
       "      <td>Outdoor</td>\n",
       "      <td>Hard</td>\n",
       "      <td>1st Round</td>\n",
       "      <td>3</td>\n",
       "      <td>Myskina A.</td>\n",
       "      <td>Dulko G.</td>\n",
       "      <td>Dulko G.</td>\n",
       "      <td>16</td>\n",
       "      <td>59</td>\n",
       "      <td>1000</td>\n",
       "      <td>401</td>\n",
       "      <td>1.22</td>\n",
       "      <td>3.75</td>\n",
       "      <td>1-6 7-6 2-6</td>\n",
       "    </tr>\n",
       "    <tr>\n",
       "      <th>2</th>\n",
       "      <td>ASB Classic</td>\n",
       "      <td>2007-01-01 00:00:00</td>\n",
       "      <td>Outdoor</td>\n",
       "      <td>Hard</td>\n",
       "      <td>1st Round</td>\n",
       "      <td>3</td>\n",
       "      <td>Loit E.</td>\n",
       "      <td>Birnerova E.</td>\n",
       "      <td>Loit E.</td>\n",
       "      <td>56</td>\n",
       "      <td>84</td>\n",
       "      <td>418</td>\n",
       "      <td>324</td>\n",
       "      <td>1.72</td>\n",
       "      <td>2.00</td>\n",
       "      <td>6-1 6-1</td>\n",
       "    </tr>\n",
       "    <tr>\n",
       "      <th>3</th>\n",
       "      <td>ASB Classic</td>\n",
       "      <td>2007-01-01 00:00:00</td>\n",
       "      <td>Outdoor</td>\n",
       "      <td>Hard</td>\n",
       "      <td>1st Round</td>\n",
       "      <td>3</td>\n",
       "      <td>Nakamura A.</td>\n",
       "      <td>Craybas J.</td>\n",
       "      <td>Craybas J.</td>\n",
       "      <td>57</td>\n",
       "      <td>70</td>\n",
       "      <td>405</td>\n",
       "      <td>365</td>\n",
       "      <td>1.83</td>\n",
       "      <td>1.83</td>\n",
       "      <td>5-7 2-6</td>\n",
       "    </tr>\n",
       "    <tr>\n",
       "      <th>4</th>\n",
       "      <td>ASB Classic</td>\n",
       "      <td>2007-01-01 00:00:00</td>\n",
       "      <td>Outdoor</td>\n",
       "      <td>Hard</td>\n",
       "      <td>1st Round</td>\n",
       "      <td>3</td>\n",
       "      <td>Bartoli M.</td>\n",
       "      <td>Morita A.</td>\n",
       "      <td>Bartoli M.</td>\n",
       "      <td>18</td>\n",
       "      <td>180</td>\n",
       "      <td>951</td>\n",
       "      <td>152</td>\n",
       "      <td>1.16</td>\n",
       "      <td>4.50</td>\n",
       "      <td>7-6 6-3</td>\n",
       "    </tr>\n",
       "  </tbody>\n",
       "</table>\n",
       "</div>"
      ],
      "text/plain": [
       "    Tournament                 Date    Court Surface      Round  Best of  \\\n",
       "0  ASB Classic  2007-01-01 00:00:00  Outdoor    Hard  1st Round        3   \n",
       "1  ASB Classic  2007-01-01 00:00:00  Outdoor    Hard  1st Round        3   \n",
       "2  ASB Classic  2007-01-01 00:00:00  Outdoor    Hard  1st Round        3   \n",
       "3  ASB Classic  2007-01-01 00:00:00  Outdoor    Hard  1st Round        3   \n",
       "4  ASB Classic  2007-01-01 00:00:00  Outdoor    Hard  1st Round        3   \n",
       "\n",
       "      Player_1      Player_2      Winner  Rank_1  Rank_2  Pts_1  Pts_2 Odd_1  \\\n",
       "0     Sun T.T.      Baker L.    Sun T.T.      81     272    332     90  1.33   \n",
       "1   Myskina A.      Dulko G.    Dulko G.      16      59   1000    401  1.22   \n",
       "2      Loit E.  Birnerova E.     Loit E.      56      84    418    324  1.72   \n",
       "3  Nakamura A.    Craybas J.  Craybas J.      57      70    405    365  1.83   \n",
       "4   Bartoli M.     Morita A.  Bartoli M.      18     180    951    152  1.16   \n",
       "\n",
       "   Odd_2        Score  \n",
       "0   3.00     6-1 6-1   \n",
       "1   3.75  1-6 7-6 2-6  \n",
       "2   2.00     6-1 6-1   \n",
       "3   1.83     5-7 2-6   \n",
       "4   4.50     7-6 6-3   "
      ]
     },
     "execution_count": 6,
     "metadata": {},
     "output_type": "execute_result"
    }
   ],
   "source": [
    "df = pd.read_csv(\"../data/wta.csv\")\n",
    "df.head()"
   ]
  },
  {
   "cell_type": "code",
   "execution_count": 7,
   "id": "a9b763cb",
   "metadata": {},
   "outputs": [
    {
     "name": "stdout",
     "output_type": "stream",
     "text": [
      "<class 'pandas.core.frame.DataFrame'>\n",
      "RangeIndex: 42135 entries, 0 to 42134\n",
      "Data columns (total 16 columns):\n",
      " #   Column      Non-Null Count  Dtype  \n",
      "---  ------      --------------  -----  \n",
      " 0   Tournament  42135 non-null  object \n",
      " 1   Date        42135 non-null  object \n",
      " 2   Court       42135 non-null  object \n",
      " 3   Surface     42135 non-null  object \n",
      " 4   Round       42135 non-null  object \n",
      " 5   Best of     42135 non-null  int64  \n",
      " 6   Player_1    42135 non-null  object \n",
      " 7   Player_2    42135 non-null  object \n",
      " 8   Winner      42135 non-null  object \n",
      " 9   Rank_1      42135 non-null  int64  \n",
      " 10  Rank_2      42135 non-null  int64  \n",
      " 11  Pts_1       42135 non-null  int64  \n",
      " 12  Pts_2       42135 non-null  int64  \n",
      " 13  Odd_1       42135 non-null  object \n",
      " 14  Odd_2       42135 non-null  float64\n",
      " 15  Score       42135 non-null  object \n",
      "dtypes: float64(1), int64(5), object(10)\n",
      "memory usage: 5.1+ MB\n"
     ]
    }
   ],
   "source": [
    "df.info()"
   ]
  },
  {
   "cell_type": "code",
   "execution_count": 8,
   "id": "c835fe16",
   "metadata": {},
   "outputs": [
    {
     "data": {
      "text/html": [
       "<div>\n",
       "<style scoped>\n",
       "    .dataframe tbody tr th:only-of-type {\n",
       "        vertical-align: middle;\n",
       "    }\n",
       "\n",
       "    .dataframe tbody tr th {\n",
       "        vertical-align: top;\n",
       "    }\n",
       "\n",
       "    .dataframe thead th {\n",
       "        text-align: right;\n",
       "    }\n",
       "</style>\n",
       "<table border=\"1\" class=\"dataframe\">\n",
       "  <thead>\n",
       "    <tr style=\"text-align: right;\">\n",
       "      <th></th>\n",
       "      <th>Best of</th>\n",
       "      <th>Rank_1</th>\n",
       "      <th>Rank_2</th>\n",
       "      <th>Pts_1</th>\n",
       "      <th>Pts_2</th>\n",
       "      <th>Odd_2</th>\n",
       "    </tr>\n",
       "  </thead>\n",
       "  <tbody>\n",
       "    <tr>\n",
       "      <th>count</th>\n",
       "      <td>42135.000000</td>\n",
       "      <td>42135.000000</td>\n",
       "      <td>42135.000000</td>\n",
       "      <td>42135.000000</td>\n",
       "      <td>42135.000000</td>\n",
       "      <td>42135.000000</td>\n",
       "    </tr>\n",
       "    <tr>\n",
       "      <th>mean</th>\n",
       "      <td>3.000047</td>\n",
       "      <td>76.242198</td>\n",
       "      <td>75.078723</td>\n",
       "      <td>1560.751893</td>\n",
       "      <td>1578.514109</td>\n",
       "      <td>2.512287</td>\n",
       "    </tr>\n",
       "    <tr>\n",
       "      <th>std</th>\n",
       "      <td>0.009743</td>\n",
       "      <td>93.783095</td>\n",
       "      <td>92.380957</td>\n",
       "      <td>1601.414814</td>\n",
       "      <td>1622.822300</td>\n",
       "      <td>2.083786</td>\n",
       "    </tr>\n",
       "    <tr>\n",
       "      <th>min</th>\n",
       "      <td>3.000000</td>\n",
       "      <td>1.000000</td>\n",
       "      <td>1.000000</td>\n",
       "      <td>-1.000000</td>\n",
       "      <td>-1.000000</td>\n",
       "      <td>-1.000000</td>\n",
       "    </tr>\n",
       "    <tr>\n",
       "      <th>25%</th>\n",
       "      <td>3.000000</td>\n",
       "      <td>24.000000</td>\n",
       "      <td>24.000000</td>\n",
       "      <td>627.000000</td>\n",
       "      <td>630.000000</td>\n",
       "      <td>1.400000</td>\n",
       "    </tr>\n",
       "    <tr>\n",
       "      <th>50%</th>\n",
       "      <td>3.000000</td>\n",
       "      <td>54.000000</td>\n",
       "      <td>53.000000</td>\n",
       "      <td>1025.000000</td>\n",
       "      <td>1032.000000</td>\n",
       "      <td>1.830000</td>\n",
       "    </tr>\n",
       "    <tr>\n",
       "      <th>75%</th>\n",
       "      <td>3.000000</td>\n",
       "      <td>96.000000</td>\n",
       "      <td>95.000000</td>\n",
       "      <td>1831.500000</td>\n",
       "      <td>1847.000000</td>\n",
       "      <td>2.750000</td>\n",
       "    </tr>\n",
       "    <tr>\n",
       "      <th>max</th>\n",
       "      <td>5.000000</td>\n",
       "      <td>1876.000000</td>\n",
       "      <td>1825.000000</td>\n",
       "      <td>13615.000000</td>\n",
       "      <td>13615.000000</td>\n",
       "      <td>51.000000</td>\n",
       "    </tr>\n",
       "  </tbody>\n",
       "</table>\n",
       "</div>"
      ],
      "text/plain": [
       "            Best of        Rank_1        Rank_2         Pts_1         Pts_2  \\\n",
       "count  42135.000000  42135.000000  42135.000000  42135.000000  42135.000000   \n",
       "mean       3.000047     76.242198     75.078723   1560.751893   1578.514109   \n",
       "std        0.009743     93.783095     92.380957   1601.414814   1622.822300   \n",
       "min        3.000000      1.000000      1.000000     -1.000000     -1.000000   \n",
       "25%        3.000000     24.000000     24.000000    627.000000    630.000000   \n",
       "50%        3.000000     54.000000     53.000000   1025.000000   1032.000000   \n",
       "75%        3.000000     96.000000     95.000000   1831.500000   1847.000000   \n",
       "max        5.000000   1876.000000   1825.000000  13615.000000  13615.000000   \n",
       "\n",
       "              Odd_2  \n",
       "count  42135.000000  \n",
       "mean       2.512287  \n",
       "std        2.083786  \n",
       "min       -1.000000  \n",
       "25%        1.400000  \n",
       "50%        1.830000  \n",
       "75%        2.750000  \n",
       "max       51.000000  "
      ]
     },
     "execution_count": 8,
     "metadata": {},
     "output_type": "execute_result"
    }
   ],
   "source": [
    "df.describe()"
   ]
  },
  {
   "cell_type": "code",
   "execution_count": 9,
   "id": "c662c396",
   "metadata": {},
   "outputs": [
    {
     "data": {
      "text/plain": [
       "Tournament    0\n",
       "Date          0\n",
       "Court         0\n",
       "Surface       0\n",
       "Round         0\n",
       "Best of       0\n",
       "Player_1      0\n",
       "Player_2      0\n",
       "Winner        0\n",
       "Rank_1        0\n",
       "Rank_2        0\n",
       "Pts_1         0\n",
       "Pts_2         0\n",
       "Odd_1         0\n",
       "Odd_2         0\n",
       "Score         0\n",
       "dtype: int64"
      ]
     },
     "execution_count": 9,
     "metadata": {},
     "output_type": "execute_result"
    }
   ],
   "source": [
    "df.isna().sum()"
   ]
  },
  {
   "cell_type": "markdown",
   "id": "89364ddf",
   "metadata": {},
   "source": [
    "## Wstępny check i czyszczenie"
   ]
  },
  {
   "cell_type": "markdown",
   "id": "51eac4fe",
   "metadata": {},
   "source": [
    "1. Szybkie czyszczenie"
   ]
  },
  {
   "cell_type": "code",
   "execution_count": null,
   "id": "b6b9d82d",
   "metadata": {},
   "outputs": [],
   "source": [
    "# -> day time format\n",
    "df[\"Date\"] = pd.to_datetime(df[\"Date\"], errors=\"coerce\")"
   ]
  },
  {
   "cell_type": "code",
   "execution_count": 12,
   "id": "b55a621e",
   "metadata": {},
   "outputs": [],
   "source": [
    "# -> strip spacji z kolumn tekstowych\n",
    "for col in [\"Tournament\", \"Court\", \"Surface\", \"Round\", \"Player_1\", \"Player_2\", \"Winner\", \"Score\"]:\n",
    "    if col in df.columns:\n",
    "        df[col] = df[col].astype(str).str.strip()"
   ]
  },
  {
   "cell_type": "code",
   "execution_count": 13,
   "id": "e0064140",
   "metadata": {},
   "outputs": [],
   "source": [
    "# -> usunięcie meczy RET/W.O/DEF\n",
    "if \"Score\" in df.columns:\n",
    "    df = df[~df[\"Score\"].str.contains(r\"RET|W/O|DEF\", na=False)].reset_index(drop=True)"
   ]
  },
  {
   "cell_type": "code",
   "execution_count": 14,
   "id": "c3b28e48",
   "metadata": {},
   "outputs": [],
   "source": [
    "# -> standaryzacja nawierzchni\n",
    "SURF_MAP = {\n",
    "    \"Hard Indoor\": \"Hard\", \"Carpet\": \"Hard\",\n",
    "    \"Clay Indoor\": \"Clay\",\n",
    "}\n",
    "df[\"Surface\"] = df[\"Surface\"].replace(SURF_MAP)"
   ]
  },
  {
   "cell_type": "code",
   "execution_count": 15,
   "id": "8557ac4d",
   "metadata": {},
   "outputs": [],
   "source": [
    "# -> court indoor/outdoor one‑hot\n",
    "if \"Court\" in df.columns:\n",
    "    df[\"Court_Outdoor\"] = (df[\"Court\"].str.contains(\"Outdoor\", na=False)).astype(int)\n",
    "    df = df.drop(columns=[\"Court\"], errors=\"ignore\")"
   ]
  },
  {
   "cell_type": "code",
   "execution_count": 16,
   "id": "47798b45",
   "metadata": {},
   "outputs": [],
   "source": [
    "# -> drop Best of (zawsze 3) ----------------------\n",
    "df = df.drop(columns=[\"Best of\"], errors=\"ignore\")"
   ]
  },
  {
   "cell_type": "markdown",
   "id": "1bbdd529",
   "metadata": {},
   "source": [
    "2. Konwersacja numeryczna"
   ]
  },
  {
   "cell_type": "code",
   "execution_count": 17,
   "id": "5ab30ed3",
   "metadata": {},
   "outputs": [],
   "source": [
    "NUM_COLS = [\n",
    "    \"Rank_1\", \"Rank_2\", \"Pts_1\", \"Pts_2\", \"Odd_1\", \"Odd_2\",\n",
    "    \"Aces_1\", \"Aces_2\", \"DF_1\", \"DF_2\",\n",
    "]\n",
    "for col in NUM_COLS:\n",
    "    if col in df.columns:\n",
    "        df[col] = (df[col].astype(str)\n",
    "                          .str.replace(\",\", \".\", regex=False)\n",
    "                          .str.extract(r\"([-+]?[0-9]*\\.?[0-9]+)\")\n",
    "                          .astype(float))"
   ]
  },
  {
   "cell_type": "markdown",
   "id": "6202859f",
   "metadata": {},
   "source": [
    "3. Parsing wyniku – sety & gemy"
   ]
  },
  {
   "cell_type": "code",
   "execution_count": 20,
   "id": "0904af36",
   "metadata": {},
   "outputs": [],
   "source": [
    "SET_RE = re.compile(r\"(\\d+)[-:](\\d+)\")  # 7-6, 10–8 itp.\n",
    "\n",
    "def parse_score(score: str):\n",
    "    p1_sets = p2_sets = p1_gems = p2_gems = 0\n",
    "    for a, b in SET_RE.findall(score):\n",
    "        a, b = int(a), int(b)\n",
    "        p1_gems += a;  p2_gems += b\n",
    "        p1_sets += a > b\n",
    "        p2_sets += b > a\n",
    "    return p1_sets, p2_sets, p1_gems, p2_gems\n",
    "\n",
    "sets = df[\"Score\"].apply(parse_score).tolist()\n",
    "cols = [\"P1_sets\", \"P2_sets\", \"P1_gems\", \"P2_gems\"]\n",
    "df[cols] = pd.DataFrame(sets, index=df.index)"
   ]
  },
  {
   "cell_type": "markdown",
   "id": "b8b1e902",
   "metadata": {},
   "source": [
    "4. Rounds mapping"
   ]
  },
  {
   "cell_type": "code",
   "execution_count": 21,
   "id": "507af91f",
   "metadata": {},
   "outputs": [],
   "source": [
    "ROUND_MAP = {\n",
    "    \"Qualifying\": 0, \"1st Round\": 1, \"2nd Round\": 2, \"3rd Round\": 3,\n",
    "    \"4th Round\": 4, \"Round Robin\": 5, \"Quarterfinals\": 6,\n",
    "    \"Semifinals\": 7, \"The Final\": 8, \"Third Place\": 9,\n",
    "}\n",
    "df[\"Round_encoded\"] = df[\"Round\"].map(ROUND_MAP)"
   ]
  },
  {
   "cell_type": "markdown",
   "id": "7dc66bcb",
   "metadata": {},
   "source": [
    "5. Target: Player1_wins"
   ]
  },
  {
   "cell_type": "code",
   "execution_count": 22,
   "id": "741db307",
   "metadata": {},
   "outputs": [],
   "source": [
    "df[\"Player1_wins\"] = (df[\"Winner\"] == df[\"Player_1\"]).astype(int)"
   ]
  },
  {
   "cell_type": "markdown",
   "id": "85207f98",
   "metadata": {},
   "source": [
    "6. Feature engineering"
   ]
  },
  {
   "cell_type": "code",
   "execution_count": 23,
   "id": "2fa02837",
   "metadata": {},
   "outputs": [],
   "source": [
    "# Rank / points diff\n",
    "if {\"Rank_1\", \"Rank_2\"}.issubset(df.columns):\n",
    "    df[\"Rank_diff\"] = df[\"Rank_2\"] - df[\"Rank_1\"]\n",
    "if {\"Pts_1\", \"Pts_2\"}.issubset(df.columns):\n",
    "    df[\"Points_diff\"] = df[\"Pts_1\"] - df[\"Pts_2\"]"
   ]
  },
  {
   "cell_type": "code",
   "execution_count": 24,
   "id": "0f11151b",
   "metadata": {},
   "outputs": [],
   "source": [
    "# Rolling form (helper)\n",
    "from collections import defaultdict\n",
    "\n",
    "def add_form(df: pd.DataFrame, window: int = 10):\n",
    "    wins_hist = defaultdict(list)\n",
    "    form1, form2 = [], []\n",
    "    for _, r in df.sort_values(\"Date\").iterrows():\n",
    "        p1, p2, w = r[\"Player_1\"], r[\"Player_2\"], r[\"Player1_wins\"]\n",
    "        f1 = wins_hist[p1][-window:]\n",
    "        f2 = wins_hist[p2][-window:]\n",
    "        form1.append((sum(f1)/len(f1)) if f1 else 0.5)\n",
    "        form2.append((sum(f2)/len(f2)) if f2 else 0.5)\n",
    "        wins_hist[p1].append(w)\n",
    "        wins_hist[p2].append(1-w)\n",
    "    df[\"P1_form_win\"], df[\"P2_form_win\"] = form1, form2\n",
    "    return df\n",
    "\n",
    "df = add_form(df)"
   ]
  },
  {
   "cell_type": "code",
   "execution_count": 25,
   "id": "478606eb",
   "metadata": {},
   "outputs": [],
   "source": [
    "# H2H diff (compact)\n",
    "from itertools import repeat\n",
    "\n",
    "def add_h2h(df: pd.DataFrame):\n",
    "    h2h = defaultdict(int)\n",
    "    diffs = []\n",
    "    for _, r in df.sort_values(\"Date\").iterrows():\n",
    "        p1, p2, w = r[\"Player_1\"], r[\"Player_2\"], r[\"Player1_wins\"]\n",
    "        diffs.append(h2h[(p1, p2)] - h2h[(p2, p1)])\n",
    "        h2h[(p1, p2)] += w\n",
    "        h2h[(p2, p1)] += 1-w\n",
    "    df[\"H2H_diff\"] = diffs\n",
    "    return df\n",
    "\n",
    "df = add_h2h(df)"
   ]
  },
  {
   "cell_type": "markdown",
   "id": "8265e1cf",
   "metadata": {},
   "source": [
    "7. Elo (global + surface)"
   ]
  },
  {
   "cell_type": "code",
   "execution_count": 26,
   "id": "3704d10e",
   "metadata": {},
   "outputs": [],
   "source": [
    "START_ELO, K = 1500, 32\n",
    "from math import pow\n",
    "\n",
    "def exp_score(a, b):\n",
    "    return 1/(1+pow(10, (b-a)/400))\n",
    "\n",
    "def add_elo(df: pd.DataFrame):\n",
    "    elo_g, elo_s = defaultdict(lambda: START_ELO), {s: defaultdict(lambda: START_ELO) for s in df[\"Surface\"].unique()}\n",
    "    cols = {k: [] for k in [\"Elo_p1\",\"Elo_p2\",\"Elo_diff\",\"SurfElo_p1\",\"SurfElo_p2\",\"SurfElo_diff\"]}\n",
    "    for _, r in df.sort_values(\"Date\").iterrows():\n",
    "        p1, p2, srf, w = r[\"Player_1\"], r[\"Player_2\"], r[\"Surface\"], r[\"Player1_wins\"]\n",
    "        e1, e2 = elo_g[p1], elo_g[p2]\n",
    "        se1, se2 = elo_s[srf][p1], elo_s[srf][p2]\n",
    "        for k, v in zip(cols, [e1, e2, e1-e2, se1, se2, se1-se2]):\n",
    "            cols[k].append(v)\n",
    "        # update\n",
    "        elo_g[p1] += K*(w-exp_score(e1,e2))\n",
    "        elo_g[p2] += K*((1-w)-exp_score(e2,e1))\n",
    "        elo_s[srf][p1] += K*(w-exp_score(se1,se2))\n",
    "        elo_s[srf][p2] += K*((1-w)-exp_score(se2,se1))\n",
    "    for k,v in cols.items():\n",
    "        df[k] = v\n",
    "    return df\n",
    "\n",
    "df = add_elo(df)"
   ]
  },
  {
   "cell_type": "markdown",
   "id": "807209c3",
   "metadata": {},
   "source": [
    "8. Zapis prepared"
   ]
  },
  {
   "cell_type": "code",
   "execution_count": 27,
   "id": "9401ac2c",
   "metadata": {},
   "outputs": [
    {
     "name": "stdout",
     "output_type": "stream",
     "text": [
      "✅ zapisano ../prepared_data/wta_prepared_eda_v2.csv – shape (42135, 30)\n"
     ]
    }
   ],
   "source": [
    "KEEP = [c for c in df.columns if c not in {\"Score\", \"Winner\"}]\n",
    "df[KEEP].to_csv(\"../prepared_data/wta_prepared_eda_v2.csv\", index=False)\n",
    "print(\"✅ zapisano ../prepared_data/wta_prepared_eda_v2.csv – shape\", df[KEEP].shape)"
   ]
  },
  {
   "cell_type": "code",
   "execution_count": 28,
   "id": "d3a46ad7",
   "metadata": {},
   "outputs": [
    {
     "data": {
      "image/png": "[encoded data removed]",
      "text/plain": [
       "<Figure size 600x400 with 1 Axes>"
      ]
     },
     "metadata": {},
     "output_type": "display_data"
    }
   ],
   "source": [
    "plt.figure(figsize=(6,4))\n",
    "sns.boxplot(x=df[\"Player1_wins\"], y=df[\"Elo_diff\"])\n",
    "plt.title(\"Elo_diff vs Player1_wins\")\n",
    "plt.show()"
   ]
  }
 ],
 "metadata": {
  "kernelspec": {
   "display_name": "Python 3",
   "language": "python",
   "name": "python3"
  },
  "language_info": {
   "codemirror_mode": {
    "name": "ipython",
    "version": 3
   },
   "file_extension": ".py",
   "mimetype": "text/x-python",
   "name": "python",
   "nbconvert_exporter": "python",
   "pygments_lexer": "ipython3",
   "version": "3.12.10"
  }
 },
 "nbformat": 4,
 "nbformat_minor": 5
}
